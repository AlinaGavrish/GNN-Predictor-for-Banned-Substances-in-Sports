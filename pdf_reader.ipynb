{
 "cells": [
  {
   "cell_type": "code",
   "execution_count": null,
   "metadata": {},
   "outputs": [],
   "source": [
    "import PyPDF2\n",
    "def extract_text_from_pdf(pdf_path):\n",
    "    with open(pdf_path, 'rb') as file:\n",
    "        reader = PyPDF2.PdfFileReader(file)\n",
    "        text = ''\n",
    "        for page_num in range(reader.numPages):\n",
    "            page = reader.getPage(page_num)\n",
    "            text += page.extractText()\n",
    "    return text\n"
   ]
  },
  {
   "cell_type": "code",
   "execution_count": null,
   "metadata": {},
   "outputs": [],
   "source": [
    "def compare_pdfs(pdf_paths, keyword):\n",
    "    texts = [extract_text_from_pdf(pdf_path) for pdf_path in pdf_paths]\n",
    "    for i, text in enumerate(texts):\n",
    "        if keyword in text:\n",
    "            print(f\"Keyword '{keyword}' found in PDF {i+1}\")\n",
    "        else:\n",
    "            print(f\"Keyword '{keyword}' not found in PDF {i+1}\")\n"
   ]
  },
  {
   "cell_type": "code",
   "execution_count": null,
   "metadata": {},
   "outputs": [],
   "source": [
    "pdf_paths = ['2022list.pdf', '2023list.pdf']\n",
    "compare_pdfs(pdf_paths, 'drugs')\n"
   ]
  },
  {
   "cell_type": "code",
   "execution_count": 8,
   "metadata": {},
   "outputs": [
    {
     "name": "stdout",
     "output_type": "stream",
     "text": [
      "Words unique to document1.pdf but not in document2.pdf:\n",
      "{'inhibitor', '17ß', 'tetryzoline', '8m', 'torasemide', 'ketoandrostenedione', '5a', 'voxelotor', 'testolactone4', 'gestrinoneanabolic', '7darbepoetins', '12salmeterol', '11myostatin', '17ɑ', '12fenbutrazate', 'methylenedioxymetham', 'methylenedioxyamphetamine', 'ractopamine', '5ɑ', '7ɑ', '3ɑ', 'precursor', 'phetamine', 'parahydroxyamphet', 'ß4', 'dmaa', '3ß', '517ɑ', 'methylepithiostanol', 'logues', 'apitegromab', '7ß', 'n', 'y', '202', 'ß', 'mini', 'yk', 'otic', 'dimethylamylamine', 'hexylamine', '10amiphenazole', 'ana', 'ɑ', 'epistane', 'wmf', '5ß', 'zumab', '2ɑ', 'toremifene4', 'domagro', 'intranasal', '2023', 'adrenosterone', 'v', 'solriamfetol'}\n"
     ]
    }
   ],
   "source": [
    "import PyPDF2\n",
    "import re\n",
    "\n",
    "def extract_words_from_pdf(pdf_path):\n",
    "    words = set()\n",
    "    with open(pdf_path, 'rb') as file:\n",
    "        reader = PyPDF2.PdfReader(file)\n",
    "        for page in reader.pages:\n",
    "            text = page.extract_text()\n",
    "            # Use regular expression to find words (assuming words are separated by spaces)\n",
    "            words.update(re.findall(r'\\b\\w+\\b', text.lower()))\n",
    "    return words\n",
    "\n",
    "def compare_pdfs(pdf1_path, pdf2_path):\n",
    "    words_pdf1 = extract_words_from_pdf(pdf2_path)\n",
    "    words_pdf2 = extract_words_from_pdf(pdf1_path)\n",
    "    \n",
    "    words_unique_to_pdf1 = words_pdf1 - words_pdf2\n",
    "    \n",
    "    return words_unique_to_pdf1\n",
    "\n",
    "pdf1_path = '2022list.pdf'\n",
    "pdf2_path = '2023list.pdf'\n",
    "\n",
    "unique_words = compare_pdfs(pdf1_path, pdf2_path)\n",
    "print(\"Words unique to document1.pdf but not in document2.pdf:\")\n",
    "print(unique_words)\n",
    "\n"
   ]
  },
  {
   "cell_type": "code",
   "execution_count": null,
   "metadata": {},
   "outputs": [],
   "source": []
  }
 ],
 "metadata": {
  "kernelspec": {
   "display_name": "Python 3 (ipykernel)",
   "language": "python",
   "name": "python3"
  },
  "language_info": {
   "codemirror_mode": {
    "name": "ipython",
    "version": 3
   },
   "file_extension": ".py",
   "mimetype": "text/x-python",
   "name": "python",
   "nbconvert_exporter": "python",
   "pygments_lexer": "ipython3",
   "version": "3.10.4"
  }
 },
 "nbformat": 4,
 "nbformat_minor": 2
}
